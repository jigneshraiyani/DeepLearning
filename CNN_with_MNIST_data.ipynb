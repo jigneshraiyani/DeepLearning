{
  "nbformat": 4,
  "nbformat_minor": 0,
  "metadata": {
    "colab": {
      "private_outputs": true,
      "provenance": [],
      "gpuType": "T4",
      "authorship_tag": "ABX9TyNLcH2eYB7lFoc2f03Ysr1u"
    },
    "kernelspec": {
      "name": "python3",
      "display_name": "Python 3"
    },
    "language_info": {
      "name": "python"
    },
    "accelerator": "GPU"
  },
  "cells": [
    {
      "cell_type": "code",
      "execution_count": null,
      "metadata": {
        "id": "Egqz0K5gqt-W"
      },
      "outputs": [],
      "source": [
        "# Import Basic packages\n",
        "import numpy as np\n",
        "import pandas as pd\n",
        "import seaborn as sns\n",
        "import matplotlib.pyplot as plt\n",
        "import warnings\n",
        "warnings.filterwarnings('ignore')"
      ]
    },
    {
      "cell_type": "code",
      "source": [
        "import tensorflow as tf\n",
        "from tensorflow import keras\n",
        "from keras.models import Sequential\n",
        "from keras.layers import Dense, Flatten, Conv2D\n",
        "from keras.datasets import mnist"
      ],
      "metadata": {
        "id": "DtlFaqRYsvdE"
      },
      "execution_count": null,
      "outputs": []
    },
    {
      "cell_type": "code",
      "source": [
        "# Load data\n",
        "(x_train, y_train), (x_test, y_test) = mnist.load_data()"
      ],
      "metadata": {
        "id": "Cppl5HXBtfPw"
      },
      "execution_count": null,
      "outputs": []
    },
    {
      "cell_type": "code",
      "source": [
        "print(x_train.shape, y_train.shape)\n",
        "print(x_test.shape, y_test.shape)"
      ],
      "metadata": {
        "id": "T56VwXcMtfS4"
      },
      "execution_count": null,
      "outputs": []
    },
    {
      "cell_type": "code",
      "source": [
        "# Feature scaling\n",
        "x_train = x_train/255.0\n",
        "x_test = x_test/255.0"
      ],
      "metadata": {
        "id": "2wKnndFEtfVx"
      },
      "execution_count": null,
      "outputs": []
    },
    {
      "cell_type": "code",
      "source": [
        "# CNN Model with valid padding - general approch\n",
        "\n",
        "model = Sequential()\n",
        "model.add(Conv2D(32, kernel_size=(3,3), padding = \"valid\", activation = 'relu', input_shape = (28, 28, 1)))\n",
        "model.add(Conv2D(32, kernel_size=(3,3), padding = \"valid\", activation = 'relu'))\n",
        "model.add(Conv2D(32, kernel_size=(3,3), padding = \"valid\", activation = 'relu'))\n",
        "\n",
        "# DNN approch\n",
        "model.add(Flatten())\n",
        "model.add(Dense(128, activation = 'relu'))\n",
        "model.add(Dense(10, activation = 'softmax'))\n",
        "\n",
        "# Model analysis\n",
        "model.summary()"
      ],
      "metadata": {
        "id": "pRRbdKGdtfY0"
      },
      "execution_count": null,
      "outputs": []
    },
    {
      "cell_type": "code",
      "source": [
        "model.compile(optimizer='adam', loss= tf.keras.losses.SparseCategoricalCrossentropy(from_logits= True), metrics = ['accuracy'])\n",
        "model.fit(x_train, y_train, validation_data=(x_test, y_test), batch_size=10, epochs = 11)\n",
        "\n",
        "# Accuracy\n",
        "# Epoch 11/11\n",
        "# 6000/6000 [==============================] - 23s 4ms/step - loss: 0.0082 - accuracy: 0.9981 - val_loss: 0.1071 - val_accuracy: 0.9888"
      ],
      "metadata": {
        "id": "shvAVOYctfb7"
      },
      "execution_count": null,
      "outputs": []
    },
    {
      "cell_type": "code",
      "source": [
        "# CNN Model with same padding\n",
        "\n",
        "model1 = Sequential()\n",
        "model1.add(Conv2D(32, kernel_size=(3,3), padding = \"same\", activation = 'relu', input_shape = (28, 28, 1)))\n",
        "model1.add(Conv2D(32, kernel_size=(3,3), padding = \"same\", activation = 'relu'))\n",
        "model1.add(Conv2D(32, kernel_size=(3,3), padding = \"same\", activation = 'relu'))\n",
        "\n",
        "# DNN approch\n",
        "model1.add(Flatten())\n",
        "model1.add(Dense(128, activation = 'relu'))\n",
        "model1.add(Dense(10, activation = 'softmax'))\n",
        "\n",
        "# Model analysis\n",
        "model1.summary()"
      ],
      "metadata": {
        "id": "BZdodDJGtfe3"
      },
      "execution_count": null,
      "outputs": []
    },
    {
      "cell_type": "code",
      "source": [
        "model1.compile(optimizer='adam', loss= tf.keras.losses.SparseCategoricalCrossentropy(from_logits= True), metrics = ['accuracy'])\n",
        "model1.fit(x_train, y_train, validation_data=(x_test, y_test), batch_size=10, epochs = 11)\n",
        "\n",
        "# Accuracy\n",
        "# Epoch 11/11\n",
        "# 6000/6000 [==============================] - 25s 4ms/step - loss: 0.0072 - accuracy: 0.9985 - val_loss: 0.1010 - val_accuracy: 0.9877"
      ],
      "metadata": {
        "id": "Hr9a7VOhtfiS"
      },
      "execution_count": null,
      "outputs": []
    },
    {
      "cell_type": "code",
      "source": [],
      "metadata": {
        "id": "yNzaptiFtfl4"
      },
      "execution_count": null,
      "outputs": []
    }
  ]
}