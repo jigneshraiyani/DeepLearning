{
  "nbformat": 4,
  "nbformat_minor": 0,
  "metadata": {
    "colab": {
      "private_outputs": true,
      "provenance": [],
      "authorship_tag": "ABX9TyMRiYrTzWfbxvEAEAEKNZnR"
    },
    "kernelspec": {
      "name": "python3",
      "display_name": "Python 3"
    },
    "language_info": {
      "name": "python"
    }
  },
  "cells": [
    {
      "cell_type": "code",
      "execution_count": null,
      "metadata": {
        "id": "JiuYw21JdJe6"
      },
      "outputs": [],
      "source": [
        "import os, sys\n",
        "import numpy as np\n",
        "import pandas as pd\n",
        "import matplotlib.pyplot as plt\n",
        "import seaborn as sns\n",
        "%matplotlib inline\n",
        "sns.set()"
      ]
    },
    {
      "cell_type": "code",
      "source": [
        "df = pd.read_csv('/content/sample_data/placement.csv')\n",
        "df.head()"
      ],
      "metadata": {
        "id": "9Tk7kF5BdzpT"
      },
      "execution_count": null,
      "outputs": []
    },
    {
      "cell_type": "code",
      "source": [
        "df.shape"
      ],
      "metadata": {
        "id": "v0kgjMY6dzzd"
      },
      "execution_count": null,
      "outputs": []
    },
    {
      "cell_type": "code",
      "source": [
        "# Split the data into independent and dependent variable\n",
        "x = df.iloc[:,0:2]\n",
        "y = df.iloc[:,-1]"
      ],
      "metadata": {
        "id": "JSkJ3ygwdz2f"
      },
      "execution_count": null,
      "outputs": []
    },
    {
      "cell_type": "markdown",
      "source": [
        "Perceptron Model"
      ],
      "metadata": {
        "id": "xg34I9TceLAi"
      }
    },
    {
      "cell_type": "code",
      "source": [
        "from sklearn.linear_model import Perceptron\n",
        "perceptron = Perceptron()\n",
        "perceptron.fit(x, y)"
      ],
      "metadata": {
        "id": "kPRMWJPOdz5U"
      },
      "execution_count": null,
      "outputs": []
    },
    {
      "cell_type": "code",
      "source": [
        "perceptron.intercept_"
      ],
      "metadata": {
        "id": "lpnAzVXDeUOK"
      },
      "execution_count": null,
      "outputs": []
    },
    {
      "cell_type": "code",
      "source": [
        "perceptron.coef_"
      ],
      "metadata": {
        "id": "ZwYcsd7YeURL"
      },
      "execution_count": null,
      "outputs": []
    },
    {
      "cell_type": "markdown",
      "source": [
        "MNIST Data with Perceptron Model"
      ],
      "metadata": {
        "id": "FULTBs_qe81G"
      }
    },
    {
      "cell_type": "code",
      "source": [
        "from sklearn.datasets import load_digits\n",
        "digits = load_digits()"
      ],
      "metadata": {
        "id": "capbZaU8fAJR"
      },
      "execution_count": null,
      "outputs": []
    },
    {
      "cell_type": "code",
      "source": [
        "digits['data']"
      ],
      "metadata": {
        "id": "lvtAsRXUfAML"
      },
      "execution_count": null,
      "outputs": []
    },
    {
      "cell_type": "code",
      "source": [
        "digits.target"
      ],
      "metadata": {
        "id": "mH2e2q_zfAPD"
      },
      "execution_count": null,
      "outputs": []
    },
    {
      "cell_type": "code",
      "source": [
        "from sklearn.model_selection import train_test_split\n",
        "x = digits.data\n",
        "y = digits.target"
      ],
      "metadata": {
        "id": "n0RwW_zEfAU2"
      },
      "execution_count": null,
      "outputs": []
    },
    {
      "cell_type": "code",
      "source": [
        "x_train, x_test, y_train, y_test = train_test_split(x, y, test_size=0.20, random_state=101)"
      ],
      "metadata": {
        "id": "qNwe4qn_fM4z"
      },
      "execution_count": null,
      "outputs": []
    },
    {
      "cell_type": "code",
      "source": [
        "perceptron1 = Perceptron()\n",
        "perceptron1.fit(x_train, y_train)\n",
        "y_pred_train = perceptron1.predict(x_train)\n",
        "y_pred_test = perceptron1.predict(x_test)"
      ],
      "metadata": {
        "id": "-YsnltyHfPiV"
      },
      "execution_count": null,
      "outputs": []
    },
    {
      "cell_type": "code",
      "source": [
        "# Evaluation matrix\n",
        "from sklearn.metrics import confusion_matrix, classification_report, accuracy_score\n",
        "confusion_matrix(y_test, y_pred_test)\n",
        "print(classification_report(y_test, y_pred_test))"
      ],
      "metadata": {
        "id": "bseGYvkkfPnp"
      },
      "execution_count": null,
      "outputs": []
    },
    {
      "cell_type": "code",
      "source": [
        "print(\"Training Accuracy\", accuracy_score(y_train, y_pred_train))\n",
        "print(\"*****************************\"*5)\n",
        "print(\"Test Accuracy\", accuracy_score(y_test, y_pred_test))"
      ],
      "metadata": {
        "id": "ufcZj2XufjyE"
      },
      "execution_count": null,
      "outputs": []
    }
  ]
}