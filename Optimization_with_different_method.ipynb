{
  "nbformat": 4,
  "nbformat_minor": 0,
  "metadata": {
    "colab": {
      "provenance": [],
      "authorship_tag": "ABX9TyNuLWuXHERlPFGaiP4RagZh",
      "include_colab_link": true
    },
    "kernelspec": {
      "name": "python3",
      "display_name": "Python 3"
    },
    "language_info": {
      "name": "python"
    },
    "accelerator": "GPU",
    "gpuClass": "standard"
  },
  "cells": [
    {
      "cell_type": "markdown",
      "metadata": {
        "id": "view-in-github",
        "colab_type": "text"
      },
      "source": [
        "<a href=\"https://colab.research.google.com/github/jigneshraiyani/DeepLearning/blob/main/Optimization_with_different_method.ipynb\" target=\"_parent\"><img src=\"https://colab.research.google.com/assets/colab-badge.svg\" alt=\"Open In Colab\"/></a>"
      ]
    },
    {
      "cell_type": "code",
      "execution_count": 1,
      "metadata": {
        "id": "fYF90VqCbmGX"
      },
      "outputs": [],
      "source": [
        "import tensorflow as tf\n",
        "from tensorflow import keras\n",
        "from tensorflow.keras.layers import Dense, Dropout\n",
        "from tensorflow.keras.layers import Flatten\n",
        "from tensorflow.keras.models import Sequential\n",
        "from tensorflow.keras.datasets import mnist"
      ]
    },
    {
      "cell_type": "code",
      "source": [
        "(x_train, y_train), (x_test, y_test) = mnist.load_data()"
      ],
      "metadata": {
        "id": "kPLlDHy9cmfh"
      },
      "execution_count": 2,
      "outputs": []
    },
    {
      "cell_type": "code",
      "source": [
        "print(x_train.shape, y_train.shape)\n",
        "print(x_test.shape, y_test.shape)"
      ],
      "metadata": {
        "colab": {
          "base_uri": "https://localhost:8080/"
        },
        "id": "GMU63Obgcmj2",
        "outputId": "04c5817a-e937-4c57-bc49-6547890ca41a"
      },
      "execution_count": 3,
      "outputs": [
        {
          "output_type": "stream",
          "name": "stdout",
          "text": [
            "(60000, 28, 28) (60000,)\n",
            "(10000, 28, 28) (10000,)\n"
          ]
        }
      ]
    },
    {
      "cell_type": "code",
      "source": [
        "x_train.shape[0]"
      ],
      "metadata": {
        "colab": {
          "base_uri": "https://localhost:8080/"
        },
        "id": "qhnjSSR_cmnf",
        "outputId": "c53d5fa2-3054-48f6-af97-fe7f0bf364e6"
      },
      "execution_count": 4,
      "outputs": [
        {
          "output_type": "execute_result",
          "data": {
            "text/plain": [
              "60000"
            ]
          },
          "metadata": {},
          "execution_count": 4
        }
      ]
    },
    {
      "cell_type": "code",
      "source": [
        "x_train = x_train.reshape(x_train.shape[0],28,28,1)\n",
        "x_test = x_test.reshape(x_test.shape[0],28,28,1)\n",
        "input_shape= (28,28,1) # pixel size is 28 by 28 and 1 channel - black and white(gray)\n",
        "\n"
      ],
      "metadata": {
        "id": "4tBeKXYVcmrC"
      },
      "execution_count": 5,
      "outputs": []
    },
    {
      "cell_type": "code",
      "source": [
        "y_train"
      ],
      "metadata": {
        "colab": {
          "base_uri": "https://localhost:8080/"
        },
        "id": "Wtb8eIkCcmul",
        "outputId": "7eb71f35-81a4-4a33-fc61-399e075ddd55"
      },
      "execution_count": 6,
      "outputs": [
        {
          "output_type": "execute_result",
          "data": {
            "text/plain": [
              "array([5, 0, 4, ..., 5, 6, 8], dtype=uint8)"
            ]
          },
          "metadata": {},
          "execution_count": 6
        }
      ]
    },
    {
      "cell_type": "code",
      "source": [
        "y_train = keras.utils.to_categorical(y_train)\n",
        "y_train"
      ],
      "metadata": {
        "colab": {
          "base_uri": "https://localhost:8080/"
        },
        "id": "jeKJm98tcmyK",
        "outputId": "42a60dd3-190a-4712-de96-64b27fadbd1b"
      },
      "execution_count": 7,
      "outputs": [
        {
          "output_type": "execute_result",
          "data": {
            "text/plain": [
              "array([[0., 0., 0., ..., 0., 0., 0.],\n",
              "       [1., 0., 0., ..., 0., 0., 0.],\n",
              "       [0., 0., 0., ..., 0., 0., 0.],\n",
              "       ...,\n",
              "       [0., 0., 0., ..., 0., 0., 0.],\n",
              "       [0., 0., 0., ..., 0., 0., 0.],\n",
              "       [0., 0., 0., ..., 0., 1., 0.]], dtype=float32)"
            ]
          },
          "metadata": {},
          "execution_count": 7
        }
      ]
    },
    {
      "cell_type": "code",
      "source": [
        "y_test = keras.utils.to_categorical(y_test)\n",
        "x_train = x_train.astype('float')\n",
        "x_test = x_test.astype('float')"
      ],
      "metadata": {
        "id": "Up26EWMucm15"
      },
      "execution_count": 8,
      "outputs": []
    },
    {
      "cell_type": "code",
      "source": [
        "# Preprocessing using Min-Max approch\n",
        "\n",
        "x_train /=255\n",
        "x_test /=255"
      ],
      "metadata": {
        "id": "52jlHxlRcm56"
      },
      "execution_count": 9,
      "outputs": []
    },
    {
      "cell_type": "code",
      "source": [
        "from keras.api._v2.keras import metrics\n",
        "# Building Deep Neural Network\n",
        "\n",
        "def build_model(optimiser):\n",
        "  model = Sequential()\n",
        "  model.add(Flatten()) # Mandatory for image processing\n",
        "  model.add(Dense(256, activation = 'relu', input_shape=input_shape))\n",
        "  model.add(Dropout(0.25))\n",
        "  model.add(Dense(256, activation='relu'))\n",
        "  model.add(Dropout(0.50))\n",
        "  model.add(Dense(10, activation='softmax'))\n",
        "  model.compile(optimizer = optimiser, loss= keras.losses.categorical_crossentropy, metrics=['accuracy'])\n",
        "  return model"
      ],
      "metadata": {
        "id": "LrmEbjPVcm97"
      },
      "execution_count": 10,
      "outputs": []
    },
    {
      "cell_type": "code",
      "source": [
        "optimizers = ['SGD', 'Adagrad', 'Adadelta', 'RMSprop', 'Adam']\n",
        "for i in optimizers:\n",
        "  model = build_model(i)\n",
        "  history = model.fit(x_train, y_train, validation_data=(x_test, y_test), batch_size=64, epochs=10, verbose=1)"
      ],
      "metadata": {
        "colab": {
          "base_uri": "https://localhost:8080/"
        },
        "id": "3roVOB9lcnCV",
        "outputId": "a677472e-9345-4f11-f871-731b085a71a3"
      },
      "execution_count": 11,
      "outputs": [
        {
          "output_type": "stream",
          "name": "stdout",
          "text": [
            "Epoch 1/10\n",
            "938/938 [==============================] - 7s 6ms/step - loss: 1.1311 - accuracy: 0.6503 - val_loss: 0.4393 - val_accuracy: 0.8836\n",
            "Epoch 2/10\n",
            "938/938 [==============================] - 3s 3ms/step - loss: 0.5344 - accuracy: 0.8414 - val_loss: 0.3308 - val_accuracy: 0.9104\n",
            "Epoch 3/10\n",
            "938/938 [==============================] - 4s 4ms/step - loss: 0.4285 - accuracy: 0.8734 - val_loss: 0.2838 - val_accuracy: 0.9185\n",
            "Epoch 4/10\n",
            "938/938 [==============================] - 3s 3ms/step - loss: 0.3730 - accuracy: 0.8906 - val_loss: 0.2538 - val_accuracy: 0.9257\n",
            "Epoch 5/10\n",
            "938/938 [==============================] - 3s 3ms/step - loss: 0.3373 - accuracy: 0.9013 - val_loss: 0.2322 - val_accuracy: 0.9319\n",
            "Epoch 6/10\n",
            "938/938 [==============================] - 4s 4ms/step - loss: 0.3092 - accuracy: 0.9105 - val_loss: 0.2129 - val_accuracy: 0.9378\n",
            "Epoch 7/10\n",
            "938/938 [==============================] - 4s 4ms/step - loss: 0.2866 - accuracy: 0.9161 - val_loss: 0.1985 - val_accuracy: 0.9413\n",
            "Epoch 8/10\n",
            "938/938 [==============================] - 4s 4ms/step - loss: 0.2676 - accuracy: 0.9220 - val_loss: 0.1863 - val_accuracy: 0.9451\n",
            "Epoch 9/10\n",
            "938/938 [==============================] - 3s 3ms/step - loss: 0.2507 - accuracy: 0.9262 - val_loss: 0.1745 - val_accuracy: 0.9477\n",
            "Epoch 10/10\n",
            "938/938 [==============================] - 4s 4ms/step - loss: 0.2374 - accuracy: 0.9304 - val_loss: 0.1655 - val_accuracy: 0.9503\n",
            "Epoch 1/10\n",
            "938/938 [==============================] - 4s 4ms/step - loss: 1.7294 - accuracy: 0.4496 - val_loss: 1.0079 - val_accuracy: 0.8090\n",
            "Epoch 2/10\n",
            "938/938 [==============================] - 4s 4ms/step - loss: 0.9970 - accuracy: 0.7058 - val_loss: 0.6180 - val_accuracy: 0.8554\n",
            "Epoch 3/10\n",
            "938/938 [==============================] - 3s 3ms/step - loss: 0.7607 - accuracy: 0.7707 - val_loss: 0.4948 - val_accuracy: 0.8734\n",
            "Epoch 4/10\n",
            "938/938 [==============================] - 3s 3ms/step - loss: 0.6493 - accuracy: 0.8029 - val_loss: 0.4333 - val_accuracy: 0.8872\n",
            "Epoch 5/10\n",
            "938/938 [==============================] - 3s 4ms/step - loss: 0.5881 - accuracy: 0.8245 - val_loss: 0.3948 - val_accuracy: 0.8938\n",
            "Epoch 6/10\n",
            "938/938 [==============================] - 4s 4ms/step - loss: 0.5447 - accuracy: 0.8379 - val_loss: 0.3690 - val_accuracy: 0.9002\n",
            "Epoch 7/10\n",
            "938/938 [==============================] - 3s 3ms/step - loss: 0.5085 - accuracy: 0.8481 - val_loss: 0.3492 - val_accuracy: 0.9051\n",
            "Epoch 8/10\n",
            "938/938 [==============================] - 3s 3ms/step - loss: 0.4817 - accuracy: 0.8582 - val_loss: 0.3333 - val_accuracy: 0.9085\n",
            "Epoch 9/10\n",
            "938/938 [==============================] - 4s 4ms/step - loss: 0.4614 - accuracy: 0.8626 - val_loss: 0.3206 - val_accuracy: 0.9111\n",
            "Epoch 10/10\n",
            "938/938 [==============================] - 3s 3ms/step - loss: 0.4430 - accuracy: 0.8678 - val_loss: 0.3093 - val_accuracy: 0.9144\n",
            "Epoch 1/10\n",
            "938/938 [==============================] - 5s 4ms/step - loss: 2.3487 - accuracy: 0.1160 - val_loss: 2.2331 - val_accuracy: 0.1730\n",
            "Epoch 2/10\n",
            "938/938 [==============================] - 3s 3ms/step - loss: 2.2608 - accuracy: 0.1513 - val_loss: 2.1477 - val_accuracy: 0.3051\n",
            "Epoch 3/10\n",
            "938/938 [==============================] - 4s 4ms/step - loss: 2.1805 - accuracy: 0.2018 - val_loss: 2.0667 - val_accuracy: 0.4343\n",
            "Epoch 4/10\n",
            "938/938 [==============================] - 4s 4ms/step - loss: 2.1092 - accuracy: 0.2555 - val_loss: 1.9872 - val_accuracy: 0.5228\n",
            "Epoch 5/10\n",
            "938/938 [==============================] - 3s 3ms/step - loss: 2.0368 - accuracy: 0.3072 - val_loss: 1.9075 - val_accuracy: 0.5988\n",
            "Epoch 6/10\n",
            "938/938 [==============================] - 3s 4ms/step - loss: 1.9643 - accuracy: 0.3608 - val_loss: 1.8260 - val_accuracy: 0.6486\n",
            "Epoch 7/10\n",
            "938/938 [==============================] - 4s 4ms/step - loss: 1.8915 - accuracy: 0.4122 - val_loss: 1.7433 - val_accuracy: 0.6861\n",
            "Epoch 8/10\n",
            "938/938 [==============================] - 4s 4ms/step - loss: 1.8154 - accuracy: 0.4615 - val_loss: 1.6590 - val_accuracy: 0.7143\n",
            "Epoch 9/10\n",
            "938/938 [==============================] - 3s 3ms/step - loss: 1.7427 - accuracy: 0.4979 - val_loss: 1.5741 - val_accuracy: 0.7332\n",
            "Epoch 10/10\n",
            "938/938 [==============================] - 3s 3ms/step - loss: 1.6706 - accuracy: 0.5322 - val_loss: 1.4902 - val_accuracy: 0.7512\n",
            "Epoch 1/10\n",
            "938/938 [==============================] - 4s 4ms/step - loss: 0.3142 - accuracy: 0.9056 - val_loss: 0.1259 - val_accuracy: 0.9609\n",
            "Epoch 2/10\n",
            "938/938 [==============================] - 4s 4ms/step - loss: 0.1487 - accuracy: 0.9571 - val_loss: 0.1150 - val_accuracy: 0.9666\n",
            "Epoch 3/10\n",
            "938/938 [==============================] - 4s 4ms/step - loss: 0.1172 - accuracy: 0.9661 - val_loss: 0.0918 - val_accuracy: 0.9745\n",
            "Epoch 4/10\n",
            "938/938 [==============================] - 3s 3ms/step - loss: 0.1024 - accuracy: 0.9710 - val_loss: 0.0853 - val_accuracy: 0.9762\n",
            "Epoch 5/10\n",
            "938/938 [==============================] - 3s 3ms/step - loss: 0.0909 - accuracy: 0.9744 - val_loss: 0.0813 - val_accuracy: 0.9787\n",
            "Epoch 6/10\n",
            "938/938 [==============================] - 4s 4ms/step - loss: 0.0826 - accuracy: 0.9779 - val_loss: 0.0879 - val_accuracy: 0.9786\n",
            "Epoch 7/10\n",
            "938/938 [==============================] - 3s 3ms/step - loss: 0.0782 - accuracy: 0.9791 - val_loss: 0.0876 - val_accuracy: 0.9794\n",
            "Epoch 8/10\n",
            "938/938 [==============================] - 3s 3ms/step - loss: 0.0731 - accuracy: 0.9809 - val_loss: 0.0846 - val_accuracy: 0.9787\n",
            "Epoch 9/10\n",
            "938/938 [==============================] - 3s 4ms/step - loss: 0.0692 - accuracy: 0.9813 - val_loss: 0.0809 - val_accuracy: 0.9808\n",
            "Epoch 10/10\n",
            "938/938 [==============================] - 4s 4ms/step - loss: 0.0647 - accuracy: 0.9825 - val_loss: 0.0892 - val_accuracy: 0.9813\n",
            "Epoch 1/10\n",
            "938/938 [==============================] - 5s 4ms/step - loss: 0.3231 - accuracy: 0.9018 - val_loss: 0.1140 - val_accuracy: 0.9663\n",
            "Epoch 2/10\n",
            "938/938 [==============================] - 4s 4ms/step - loss: 0.1462 - accuracy: 0.9555 - val_loss: 0.0986 - val_accuracy: 0.9685\n",
            "Epoch 3/10\n",
            "938/938 [==============================] - 4s 4ms/step - loss: 0.1106 - accuracy: 0.9665 - val_loss: 0.0826 - val_accuracy: 0.9751\n",
            "Epoch 4/10\n",
            "938/938 [==============================] - 3s 4ms/step - loss: 0.0925 - accuracy: 0.9715 - val_loss: 0.0748 - val_accuracy: 0.9771\n",
            "Epoch 5/10\n",
            "938/938 [==============================] - 4s 4ms/step - loss: 0.0790 - accuracy: 0.9755 - val_loss: 0.0699 - val_accuracy: 0.9787\n",
            "Epoch 6/10\n",
            "938/938 [==============================] - 4s 5ms/step - loss: 0.0712 - accuracy: 0.9775 - val_loss: 0.0754 - val_accuracy: 0.9782\n",
            "Epoch 7/10\n",
            "938/938 [==============================] - 3s 4ms/step - loss: 0.0656 - accuracy: 0.9790 - val_loss: 0.0747 - val_accuracy: 0.9777\n",
            "Epoch 8/10\n",
            "938/938 [==============================] - 3s 3ms/step - loss: 0.0587 - accuracy: 0.9817 - val_loss: 0.0719 - val_accuracy: 0.9795\n",
            "Epoch 9/10\n",
            "938/938 [==============================] - 4s 4ms/step - loss: 0.0550 - accuracy: 0.9826 - val_loss: 0.0675 - val_accuracy: 0.9797\n",
            "Epoch 10/10\n",
            "938/938 [==============================] - 3s 4ms/step - loss: 0.0525 - accuracy: 0.9832 - val_loss: 0.0691 - val_accuracy: 0.9818\n"
          ]
        }
      ]
    },
    {
      "cell_type": "code",
      "source": [
        "# Conclusion\n",
        "# SGD', - loss: 0.2374 - accuracy: 0.9304 - val_loss: 0.1655 - val_accuracy: 0.9503\n",
        "# Adagrad' - loss: 0.4430 - accuracy: 0.8678 - val_loss: 0.3093 - val_accuracy: 0.9144\n",
        "# Adadelta' - loss: 1.6706 - accuracy: 0.5322 - val_loss: 1.4902 - val_accuracy: 0.7512\n",
        "# RMSprop', - loss: 0.0647 - accuracy: 0.9825 - val_loss: 0.0892 - val_accuracy: 0.9813\n",
        "# Adam' - loss: 0.0525 - accuracy: 0.9832 - val_loss: 0.0691 - val_accuracy: 0.9818"
      ],
      "metadata": {
        "id": "7L6kvmUEcnGi"
      },
      "execution_count": 11,
      "outputs": []
    },
    {
      "cell_type": "code",
      "source": [],
      "metadata": {
        "id": "CCV9pmVDcnLo"
      },
      "execution_count": 11,
      "outputs": []
    },
    {
      "cell_type": "code",
      "source": [],
      "metadata": {
        "id": "tpY14JklcnP0"
      },
      "execution_count": 11,
      "outputs": []
    },
    {
      "cell_type": "code",
      "source": [],
      "metadata": {
        "id": "tUzT62VGcnUL"
      },
      "execution_count": 11,
      "outputs": []
    },
    {
      "cell_type": "code",
      "source": [],
      "metadata": {
        "id": "tfXmFhn9cnax"
      },
      "execution_count": 11,
      "outputs": []
    }
  ]
}