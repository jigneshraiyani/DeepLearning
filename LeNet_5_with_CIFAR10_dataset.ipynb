{
  "nbformat": 4,
  "nbformat_minor": 0,
  "metadata": {
    "colab": {
      "private_outputs": true,
      "provenance": [],
      "gpuType": "T4",
      "authorship_tag": "ABX9TyODtpMk/zcCe4OqNS+Qnm6Y"
    },
    "kernelspec": {
      "name": "python3",
      "display_name": "Python 3"
    },
    "language_info": {
      "name": "python"
    },
    "accelerator": "GPU"
  },
  "cells": [
    {
      "cell_type": "code",
      "execution_count": null,
      "metadata": {
        "id": "LjHMm-8mf6xD"
      },
      "outputs": [],
      "source": [
        "import numpy as np\n",
        "import pandas as pd\n",
        "import seaborn as sns\n",
        "import matplotlib.pyplot as plt"
      ]
    },
    {
      "cell_type": "code",
      "source": [
        "import tensorflow as tf\n",
        "from tensorflow import keras\n",
        "from keras.datasets import cifar10\n",
        "from keras.utils import np_utils\n"
      ],
      "metadata": {
        "id": "_LWBNkp8gDLi"
      },
      "execution_count": null,
      "outputs": []
    },
    {
      "cell_type": "code",
      "source": [
        "(x_train, y_train), (x_test, y_test) = cifar10.load_data()\n",
        "\n",
        "print(x_train.shape, y_train.shape)\n",
        "print(x_test.shape, y_test.shape)"
      ],
      "metadata": {
        "id": "bhFNg-IagDOl"
      },
      "execution_count": null,
      "outputs": []
    },
    {
      "cell_type": "code",
      "source": [
        "# Normalize the value to 0 & 1\n",
        "\n",
        "x_train = x_train/255.0\n",
        "x_test = x_test/255.0"
      ],
      "metadata": {
        "id": "rffx-o6IgDRR"
      },
      "execution_count": null,
      "outputs": []
    },
    {
      "cell_type": "code",
      "source": [
        "y_train = np_utils.to_categorical(y_train, 10)\n",
        "y_test = np_utils.to_categorical(y_test, 10)\n",
        "print(y_train.shape, y_test.shape)"
      ],
      "metadata": {
        "id": "EXU2cibcgDUW"
      },
      "execution_count": null,
      "outputs": []
    },
    {
      "cell_type": "code",
      "source": [
        "plt.figure(figsize=(5,5))\n",
        "\n",
        "for i in range(24):\n",
        "  plt.subplot(6,4,i+1)\n",
        "  plt.xticks([])\n",
        "  plt.yticks([])\n",
        "  plt.imshow(x_train[i])\n",
        "\n",
        "plt.show()"
      ],
      "metadata": {
        "id": "FaKF6QvJgDXN"
      },
      "execution_count": null,
      "outputs": []
    },
    {
      "cell_type": "code",
      "source": [
        "# Building the LeNet-5 Model\n",
        "\n",
        "from keras import Sequential\n",
        "from keras.layers import Dense, Conv2D, Flatten, AveragePooling2D"
      ],
      "metadata": {
        "id": "IbIjDPNjgDdk"
      },
      "execution_count": null,
      "outputs": []
    },
    {
      "cell_type": "code",
      "source": [
        "# Architecture\n",
        "model = Sequential()\n",
        "\n",
        "# C1 - convolution layer\n",
        "model.add(Conv2D(6, kernel_size=(5,5), strides=(1,1), padding='valid', activation='tanh', input_shape=(32,32,3)))\n",
        "# Pooling layer 1\n",
        "model.add(AveragePooling2D(pool_size=(2,2), strides=(2,2), padding='valid'))\n",
        "\n",
        "# C2 - convolution layer\n",
        "model.add(Conv2D(16, kernel_size=(5,5), strides=(1,1), padding='valid', activation='tanh'))\n",
        "# Pooling layer 2\n",
        "model.add(AveragePooling2D(pool_size=(2,2), strides=(2,2), padding='valid'))\n",
        "\n",
        "# Flatten\n",
        "model.add(Flatten())\n",
        "\n",
        "# Hidden layer 1\n",
        "model.add(Dense(120, activation='tanh'))\n",
        "# Hidden layer 2\n",
        "model.add(Dense(84, activation='tanh'))\n",
        "# Hidden layer 3\n",
        "model.add(Dense(10, activation='softmax'))\n",
        "\n",
        "model.summary()\n"
      ],
      "metadata": {
        "id": "-0nHYCs5gDgJ"
      },
      "execution_count": null,
      "outputs": []
    },
    {
      "cell_type": "code",
      "source": [
        "# Compile the Model\n",
        "model.compile(loss= keras.losses.categorical_crossentropy, optimizer='adam', metrics = ['accuracy'])"
      ],
      "metadata": {
        "id": "5mwj6ZUohC7M"
      },
      "execution_count": null,
      "outputs": []
    },
    {
      "cell_type": "code",
      "source": [
        "# Check train and test result\n",
        "history = model.fit(x_train, y_train, validation_data=(x_test, y_test), batch_size = 128, epochs=21, verbose=1)"
      ],
      "metadata": {
        "id": "QG_DRKcKhC-v"
      },
      "execution_count": null,
      "outputs": []
    },
    {
      "cell_type": "code",
      "source": [
        "# Visualize the output\n",
        "\n",
        "f,ax = plt.subplots()\n",
        "ax.plot([None]+ history.history['accuracy'], 'o-')\n",
        "ax.plot([None]+ history.history['val_accuracy'], 'x-')\n",
        "\n",
        "ax.legend(['Training Accuracy', 'Validation Accuracy'], loc=0)\n",
        "ax.set_title('Comparision of Train & Test result')\n",
        "\n",
        "ax.set_xlabel('Epochs')\n",
        "ax.set_ylabel('Accuracy')"
      ],
      "metadata": {
        "id": "TPOlA57uhDEd"
      },
      "execution_count": null,
      "outputs": []
    },
    {
      "cell_type": "code",
      "source": [
        "f,ax = plt.subplots()\n",
        "ax.plot([None]+ history.history['loss'], 'o-')\n",
        "ax.plot([None]+ history.history['val_loss'], 'x-')\n",
        "\n",
        "ax.legend(['Training loss', 'Validation loss'], loc=0)\n",
        "ax.set_title('Comparision of Train & Test loss result')\n",
        "\n",
        "ax.set_xlabel('Epochs')\n",
        "ax.set_ylabel('Loss')"
      ],
      "metadata": {
        "id": "6UWJa3SXhDHf"
      },
      "execution_count": null,
      "outputs": []
    },
    {
      "cell_type": "code",
      "source": [],
      "metadata": {
        "id": "G4c78wCJhDLa"
      },
      "execution_count": null,
      "outputs": []
    }
  ]
}