{
  "nbformat": 4,
  "nbformat_minor": 0,
  "metadata": {
    "colab": {
      "provenance": [],
      "authorship_tag": "ABX9TyNe8glUcWbOPYHRWV6iVf4M",
      "include_colab_link": true
    },
    "kernelspec": {
      "name": "python3",
      "display_name": "Python 3"
    },
    "language_info": {
      "name": "python"
    },
    "accelerator": "GPU",
    "gpuClass": "standard"
  },
  "cells": [
    {
      "cell_type": "markdown",
      "metadata": {
        "id": "view-in-github",
        "colab_type": "text"
      },
      "source": [
        "<a href=\"https://colab.research.google.com/github/jigneshraiyani/DeepLearning/blob/main/Weight_initialization.ipynb\" target=\"_parent\"><img src=\"https://colab.research.google.com/assets/colab-badge.svg\" alt=\"Open In Colab\"/></a>"
      ]
    },
    {
      "cell_type": "markdown",
      "source": [
        "###Things not to do when initializing weight.\n"
      ],
      "metadata": {
        "id": "7HUfeedHdnvv"
      }
    },
    {
      "cell_type": "code",
      "source": [
        "import numpy as np\n",
        "import pandas as pd\n",
        "import matplotlib.pyplot as plt\n",
        "import seaborn as sns\n"
      ],
      "metadata": {
        "id": "b93yfMDHdpZn"
      },
      "execution_count": 2,
      "outputs": []
    },
    {
      "cell_type": "code",
      "source": [
        "from sklearn.datasets import make_moons"
      ],
      "metadata": {
        "id": "mNoblyAaea_A"
      },
      "execution_count": 3,
      "outputs": []
    },
    {
      "cell_type": "code",
      "source": [
        "x,y1 = make_moons(n_samples = 1000, noise= .05, random_state = 29)"
      ],
      "metadata": {
        "id": "J0_SwlzJe0I-"
      },
      "execution_count": 20,
      "outputs": []
    },
    {
      "cell_type": "code",
      "source": [
        "plt.scatter(x[: ,0], x[: ,1], c=y, s=500)\n",
        "plt.show()"
      ],
      "metadata": {
        "colab": {
          "base_uri": "https://localhost:8080/",
          "height": 265
        },
        "id": "F4bBTKljfTgM",
        "outputId": "4fda59c7-afbb-410c-dcd3-2e50a02979d8"
      },
      "execution_count": 24,
      "outputs": [
        {
          "output_type": "display_data",
          "data": {
            "text/plain": [
              "<Figure size 432x288 with 1 Axes>"
            ],
            "image/png": "[encoded data removed]"
          },
          "metadata": {
            "needs_background": "light"
          }
        }
      ]
    },
    {
      "cell_type": "code",
      "source": [
        "import tensorflow as tf\n",
        "from tensorflow import keras\n",
        "from keras import Sequential\n",
        "from keras.layers import Dense"
      ],
      "metadata": {
        "id": "_eh-fnsMheXl"
      },
      "execution_count": 27,
      "outputs": []
    },
    {
      "cell_type": "code",
      "source": [
        "model = Sequential()\n",
        "model.add(Dense(2, activation='sigmoid', input_dim = 2))\n",
        "model.add(Dense(1, 'sigmoid'))\n",
        "model.summary()"
      ],
      "metadata": {
        "colab": {
          "base_uri": "https://localhost:8080/"
        },
        "id": "xYKS2T_uiBAm",
        "outputId": "663b1cf4-6128-48b7-dfe0-0b8e40168864"
      },
      "execution_count": 28,
      "outputs": [
        {
          "output_type": "stream",
          "name": "stdout",
          "text": [
            "Model: \"sequential\"\n",
            "_________________________________________________________________\n",
            " Layer (type)                Output Shape              Param #   \n",
            "=================================================================\n",
            " dense (Dense)               (None, 2)                 6         \n",
            "                                                                 \n",
            " dense_1 (Dense)             (None, 1)                 3         \n",
            "                                                                 \n",
            "=================================================================\n",
            "Total params: 9\n",
            "Trainable params: 9\n",
            "Non-trainable params: 0\n",
            "_________________________________________________________________\n"
          ]
        }
      ]
    },
    {
      "cell_type": "code",
      "source": [
        "initial_weight = model.get_weights()\n",
        "initial_weight"
      ],
      "metadata": {
        "colab": {
          "base_uri": "https://localhost:8080/"
        },
        "id": "_W3vNqqTjqG6",
        "outputId": "2232c21b-9db0-424f-dd43-3bd5aad25d5a"
      },
      "execution_count": 31,
      "outputs": [
        {
          "output_type": "execute_result",
          "data": {
            "text/plain": [
              "[array([[-0.23324382, -0.06656909],\n",
              "        [ 0.07776189,  0.21188211]], dtype=float32),\n",
              " array([0., 0.], dtype=float32),\n",
              " array([[ 0.77449834],\n",
              "        [-0.74055517]], dtype=float32),\n",
              " array([0.], dtype=float32)]"
            ]
          },
          "metadata": {},
          "execution_count": 31
        }
      ]
    },
    {
      "cell_type": "markdown",
      "source": [
        "###Assign constant weight - not much improvement"
      ],
      "metadata": {
        "id": "gTG-drVelp2d"
      }
    },
    {
      "cell_type": "code",
      "source": [
        "initial_weight[0] = np.ones(initial_weight[0].shape)*.5\n",
        "initial_weight[1] = np.ones(initial_weight[1].shape)*.5\n",
        "initial_weight[2] = np.ones(initial_weight[2].shape)*.5\n",
        "initial_weight[3] = np.ones(initial_weight[3].shape)*.5\n",
        "\n",
        "model.set_weights(initial_weight)"
      ],
      "metadata": {
        "id": "uVpi-z60kLd6"
      },
      "execution_count": 32,
      "outputs": []
    },
    {
      "cell_type": "code",
      "source": [
        "model.compile(optimizer = 'adam', loss='binary_crossentropy', metrics='accuracy' )\n"
      ],
      "metadata": {
        "id": "hVWG4IsKk5Dd"
      },
      "execution_count": 33,
      "outputs": []
    },
    {
      "cell_type": "code",
      "source": [
        "history = model.fit(x,y, epochs=100, validation_split=.2)"
      ],
      "metadata": {
        "colab": {
          "base_uri": "https://localhost:8080/"
        },
        "id": "ZiSEnDR9lUGG",
        "outputId": "63b94d3e-18a3-48b6-837a-1c81fce124d1"
      },
      "execution_count": 34,
      "outputs": [
        {
          "output_type": "stream",
          "name": "stdout",
          "text": [
            "Epoch 1/100\n",
            "25/25 [==============================] - 5s 15ms/step - loss: 0.8471 - accuracy: 0.5013 - val_loss: 0.8480 - val_accuracy: 0.4950\n",
            "Epoch 2/100\n",
            "25/25 [==============================] - 0s 5ms/step - loss: 0.8300 - accuracy: 0.5013 - val_loss: 0.8311 - val_accuracy: 0.4950\n",
            "Epoch 3/100\n",
            "25/25 [==============================] - 0s 7ms/step - loss: 0.8142 - accuracy: 0.5013 - val_loss: 0.8157 - val_accuracy: 0.4950\n",
            "Epoch 4/100\n",
            "25/25 [==============================] - 0s 6ms/step - loss: 0.8001 - accuracy: 0.5013 - val_loss: 0.8010 - val_accuracy: 0.4950\n",
            "Epoch 5/100\n",
            "25/25 [==============================] - 0s 5ms/step - loss: 0.7869 - accuracy: 0.5013 - val_loss: 0.7881 - val_accuracy: 0.4950\n",
            "Epoch 6/100\n",
            "25/25 [==============================] - 0s 5ms/step - loss: 0.7749 - accuracy: 0.5013 - val_loss: 0.7770 - val_accuracy: 0.4950\n",
            "Epoch 7/100\n",
            "25/25 [==============================] - 0s 7ms/step - loss: 0.7645 - accuracy: 0.5013 - val_loss: 0.7661 - val_accuracy: 0.4950\n",
            "Epoch 8/100\n",
            "25/25 [==============================] - 0s 4ms/step - loss: 0.7548 - accuracy: 0.5013 - val_loss: 0.7566 - val_accuracy: 0.4950\n",
            "Epoch 9/100\n",
            "25/25 [==============================] - 0s 4ms/step - loss: 0.7465 - accuracy: 0.5013 - val_loss: 0.7477 - val_accuracy: 0.4950\n",
            "Epoch 10/100\n",
            "25/25 [==============================] - 0s 4ms/step - loss: 0.7384 - accuracy: 0.5013 - val_loss: 0.7405 - val_accuracy: 0.4950\n",
            "Epoch 11/100\n",
            "25/25 [==============================] - 0s 4ms/step - loss: 0.7318 - accuracy: 0.5013 - val_loss: 0.7336 - val_accuracy: 0.4950\n",
            "Epoch 12/100\n",
            "25/25 [==============================] - 0s 4ms/step - loss: 0.7256 - accuracy: 0.5013 - val_loss: 0.7276 - val_accuracy: 0.4950\n",
            "Epoch 13/100\n",
            "25/25 [==============================] - 0s 4ms/step - loss: 0.7203 - accuracy: 0.5013 - val_loss: 0.7221 - val_accuracy: 0.4950\n",
            "Epoch 14/100\n",
            "25/25 [==============================] - 0s 4ms/step - loss: 0.7154 - accuracy: 0.5013 - val_loss: 0.7175 - val_accuracy: 0.4950\n",
            "Epoch 15/100\n",
            "25/25 [==============================] - 0s 4ms/step - loss: 0.7113 - accuracy: 0.5013 - val_loss: 0.7132 - val_accuracy: 0.4950\n",
            "Epoch 16/100\n",
            "25/25 [==============================] - 0s 4ms/step - loss: 0.7076 - accuracy: 0.5013 - val_loss: 0.7095 - val_accuracy: 0.4950\n",
            "Epoch 17/100\n",
            "25/25 [==============================] - 0s 4ms/step - loss: 0.7042 - accuracy: 0.5013 - val_loss: 0.7064 - val_accuracy: 0.4950\n",
            "Epoch 18/100\n",
            "25/25 [==============================] - 0s 4ms/step - loss: 0.7016 - accuracy: 0.5013 - val_loss: 0.7033 - val_accuracy: 0.4950\n",
            "Epoch 19/100\n",
            "25/25 [==============================] - 0s 5ms/step - loss: 0.6989 - accuracy: 0.5013 - val_loss: 0.7008 - val_accuracy: 0.4950\n",
            "Epoch 20/100\n",
            "25/25 [==============================] - 0s 4ms/step - loss: 0.6966 - accuracy: 0.5013 - val_loss: 0.6986 - val_accuracy: 0.4950\n",
            "Epoch 21/100\n",
            "25/25 [==============================] - 0s 4ms/step - loss: 0.6947 - accuracy: 0.5013 - val_loss: 0.6964 - val_accuracy: 0.4950\n",
            "Epoch 22/100\n",
            "25/25 [==============================] - 0s 4ms/step - loss: 0.6929 - accuracy: 0.5013 - val_loss: 0.6946 - val_accuracy: 0.4950\n",
            "Epoch 23/100\n",
            "25/25 [==============================] - 0s 4ms/step - loss: 0.6913 - accuracy: 0.5013 - val_loss: 0.6928 - val_accuracy: 0.4950\n",
            "Epoch 24/100\n",
            "25/25 [==============================] - 0s 4ms/step - loss: 0.6898 - accuracy: 0.5013 - val_loss: 0.6913 - val_accuracy: 0.4950\n",
            "Epoch 25/100\n",
            "25/25 [==============================] - 0s 4ms/step - loss: 0.6884 - accuracy: 0.5013 - val_loss: 0.6900 - val_accuracy: 0.4950\n",
            "Epoch 26/100\n",
            "25/25 [==============================] - 0s 4ms/step - loss: 0.6872 - accuracy: 0.5013 - val_loss: 0.6885 - val_accuracy: 0.4950\n",
            "Epoch 27/100\n",
            "25/25 [==============================] - 0s 4ms/step - loss: 0.6859 - accuracy: 0.5013 - val_loss: 0.6874 - val_accuracy: 0.4950\n",
            "Epoch 28/100\n",
            "25/25 [==============================] - 0s 4ms/step - loss: 0.6848 - accuracy: 0.5013 - val_loss: 0.6860 - val_accuracy: 0.4950\n",
            "Epoch 29/100\n",
            "25/25 [==============================] - 0s 4ms/step - loss: 0.6835 - accuracy: 0.5013 - val_loss: 0.6848 - val_accuracy: 0.4950\n",
            "Epoch 30/100\n",
            "25/25 [==============================] - 0s 4ms/step - loss: 0.6824 - accuracy: 0.5013 - val_loss: 0.6836 - val_accuracy: 0.4950\n",
            "Epoch 31/100\n",
            "25/25 [==============================] - 0s 4ms/step - loss: 0.6812 - accuracy: 0.5013 - val_loss: 0.6823 - val_accuracy: 0.4950\n",
            "Epoch 32/100\n",
            "25/25 [==============================] - 0s 4ms/step - loss: 0.6801 - accuracy: 0.5013 - val_loss: 0.6810 - val_accuracy: 0.4950\n",
            "Epoch 33/100\n",
            "25/25 [==============================] - 0s 4ms/step - loss: 0.6788 - accuracy: 0.5013 - val_loss: 0.6798 - val_accuracy: 0.4950\n",
            "Epoch 34/100\n",
            "25/25 [==============================] - 0s 4ms/step - loss: 0.6777 - accuracy: 0.5013 - val_loss: 0.6785 - val_accuracy: 0.4950\n",
            "Epoch 35/100\n",
            "25/25 [==============================] - 0s 4ms/step - loss: 0.6763 - accuracy: 0.5013 - val_loss: 0.6771 - val_accuracy: 0.4950\n",
            "Epoch 36/100\n",
            "25/25 [==============================] - 0s 4ms/step - loss: 0.6750 - accuracy: 0.5013 - val_loss: 0.6756 - val_accuracy: 0.4950\n",
            "Epoch 37/100\n",
            "25/25 [==============================] - 0s 4ms/step - loss: 0.6735 - accuracy: 0.5013 - val_loss: 0.6741 - val_accuracy: 0.4950\n",
            "Epoch 38/100\n",
            "25/25 [==============================] - 0s 4ms/step - loss: 0.6720 - accuracy: 0.5013 - val_loss: 0.6725 - val_accuracy: 0.4950\n",
            "Epoch 39/100\n",
            "25/25 [==============================] - 0s 4ms/step - loss: 0.6705 - accuracy: 0.5013 - val_loss: 0.6708 - val_accuracy: 0.4950\n",
            "Epoch 40/100\n",
            "25/25 [==============================] - 0s 4ms/step - loss: 0.6689 - accuracy: 0.5013 - val_loss: 0.6691 - val_accuracy: 0.4950\n",
            "Epoch 41/100\n",
            "25/25 [==============================] - 0s 4ms/step - loss: 0.6671 - accuracy: 0.5013 - val_loss: 0.6672 - val_accuracy: 0.4950\n",
            "Epoch 42/100\n",
            "25/25 [==============================] - 0s 4ms/step - loss: 0.6653 - accuracy: 0.5013 - val_loss: 0.6653 - val_accuracy: 0.4950\n",
            "Epoch 43/100\n",
            "25/25 [==============================] - 0s 4ms/step - loss: 0.6634 - accuracy: 0.5013 - val_loss: 0.6633 - val_accuracy: 0.4950\n",
            "Epoch 44/100\n",
            "25/25 [==============================] - 0s 4ms/step - loss: 0.6614 - accuracy: 0.5025 - val_loss: 0.6612 - val_accuracy: 0.5000\n",
            "Epoch 45/100\n",
            "25/25 [==============================] - 0s 4ms/step - loss: 0.6594 - accuracy: 0.5325 - val_loss: 0.6590 - val_accuracy: 0.5500\n",
            "Epoch 46/100\n",
            "25/25 [==============================] - 0s 4ms/step - loss: 0.6572 - accuracy: 0.5962 - val_loss: 0.6566 - val_accuracy: 0.5800\n",
            "Epoch 47/100\n",
            "25/25 [==============================] - 0s 4ms/step - loss: 0.6549 - accuracy: 0.6250 - val_loss: 0.6542 - val_accuracy: 0.5950\n",
            "Epoch 48/100\n",
            "25/25 [==============================] - 0s 5ms/step - loss: 0.6526 - accuracy: 0.6438 - val_loss: 0.6517 - val_accuracy: 0.6250\n",
            "Epoch 49/100\n",
            "25/25 [==============================] - 0s 4ms/step - loss: 0.6501 - accuracy: 0.6637 - val_loss: 0.6491 - val_accuracy: 0.6500\n",
            "Epoch 50/100\n",
            "25/25 [==============================] - 0s 4ms/step - loss: 0.6476 - accuracy: 0.6712 - val_loss: 0.6463 - val_accuracy: 0.6550\n",
            "Epoch 51/100\n",
            "25/25 [==============================] - 0s 4ms/step - loss: 0.6449 - accuracy: 0.6875 - val_loss: 0.6435 - val_accuracy: 0.6700\n",
            "Epoch 52/100\n",
            "25/25 [==============================] - 0s 4ms/step - loss: 0.6422 - accuracy: 0.6988 - val_loss: 0.6406 - val_accuracy: 0.6850\n",
            "Epoch 53/100\n",
            "25/25 [==============================] - 0s 4ms/step - loss: 0.6394 - accuracy: 0.7100 - val_loss: 0.6375 - val_accuracy: 0.6950\n",
            "Epoch 54/100\n",
            "25/25 [==============================] - 0s 4ms/step - loss: 0.6365 - accuracy: 0.7163 - val_loss: 0.6344 - val_accuracy: 0.7050\n",
            "Epoch 55/100\n",
            "25/25 [==============================] - 0s 4ms/step - loss: 0.6335 - accuracy: 0.7250 - val_loss: 0.6312 - val_accuracy: 0.7150\n",
            "Epoch 56/100\n",
            "25/25 [==============================] - 0s 4ms/step - loss: 0.6305 - accuracy: 0.7362 - val_loss: 0.6280 - val_accuracy: 0.7300\n",
            "Epoch 57/100\n",
            "25/25 [==============================] - 0s 4ms/step - loss: 0.6273 - accuracy: 0.7412 - val_loss: 0.6246 - val_accuracy: 0.7300\n",
            "Epoch 58/100\n",
            "25/25 [==============================] - 0s 4ms/step - loss: 0.6242 - accuracy: 0.7500 - val_loss: 0.6212 - val_accuracy: 0.7350\n",
            "Epoch 59/100\n",
            "25/25 [==============================] - 0s 4ms/step - loss: 0.6210 - accuracy: 0.7588 - val_loss: 0.6176 - val_accuracy: 0.7350\n",
            "Epoch 60/100\n",
            "25/25 [==============================] - 0s 4ms/step - loss: 0.6176 - accuracy: 0.7638 - val_loss: 0.6140 - val_accuracy: 0.7600\n",
            "Epoch 61/100\n",
            "25/25 [==============================] - 0s 4ms/step - loss: 0.6142 - accuracy: 0.7663 - val_loss: 0.6105 - val_accuracy: 0.7700\n",
            "Epoch 62/100\n",
            "25/25 [==============================] - 0s 4ms/step - loss: 0.6108 - accuracy: 0.7725 - val_loss: 0.6068 - val_accuracy: 0.7750\n",
            "Epoch 63/100\n",
            "25/25 [==============================] - 0s 5ms/step - loss: 0.6074 - accuracy: 0.7775 - val_loss: 0.6031 - val_accuracy: 0.7950\n",
            "Epoch 64/100\n",
            "25/25 [==============================] - 0s 4ms/step - loss: 0.6039 - accuracy: 0.7763 - val_loss: 0.5993 - val_accuracy: 0.7900\n",
            "Epoch 65/100\n",
            "25/25 [==============================] - 0s 4ms/step - loss: 0.6004 - accuracy: 0.7763 - val_loss: 0.5955 - val_accuracy: 0.7950\n",
            "Epoch 66/100\n",
            "25/25 [==============================] - 0s 5ms/step - loss: 0.5968 - accuracy: 0.7825 - val_loss: 0.5917 - val_accuracy: 0.7900\n",
            "Epoch 67/100\n",
            "25/25 [==============================] - 0s 4ms/step - loss: 0.5932 - accuracy: 0.7775 - val_loss: 0.5879 - val_accuracy: 0.7850\n",
            "Epoch 68/100\n",
            "25/25 [==============================] - 0s 4ms/step - loss: 0.5897 - accuracy: 0.7800 - val_loss: 0.5839 - val_accuracy: 0.7850\n",
            "Epoch 69/100\n",
            "25/25 [==============================] - 0s 4ms/step - loss: 0.5860 - accuracy: 0.7800 - val_loss: 0.5801 - val_accuracy: 0.7850\n",
            "Epoch 70/100\n",
            "25/25 [==============================] - 0s 4ms/step - loss: 0.5824 - accuracy: 0.7800 - val_loss: 0.5762 - val_accuracy: 0.7900\n",
            "Epoch 71/100\n",
            "25/25 [==============================] - 0s 4ms/step - loss: 0.5787 - accuracy: 0.7887 - val_loss: 0.5723 - val_accuracy: 0.7900\n",
            "Epoch 72/100\n",
            "25/25 [==============================] - 0s 4ms/step - loss: 0.5751 - accuracy: 0.7900 - val_loss: 0.5684 - val_accuracy: 0.7900\n",
            "Epoch 73/100\n",
            "25/25 [==============================] - 0s 4ms/step - loss: 0.5714 - accuracy: 0.7862 - val_loss: 0.5645 - val_accuracy: 0.7950\n",
            "Epoch 74/100\n",
            "25/25 [==============================] - 0s 4ms/step - loss: 0.5677 - accuracy: 0.7875 - val_loss: 0.5605 - val_accuracy: 0.7900\n",
            "Epoch 75/100\n",
            "25/25 [==============================] - 0s 4ms/step - loss: 0.5641 - accuracy: 0.7837 - val_loss: 0.5566 - val_accuracy: 0.7850\n",
            "Epoch 76/100\n",
            "25/25 [==============================] - 0s 4ms/step - loss: 0.5604 - accuracy: 0.7800 - val_loss: 0.5527 - val_accuracy: 0.7900\n",
            "Epoch 77/100\n",
            "25/25 [==============================] - 0s 4ms/step - loss: 0.5567 - accuracy: 0.7825 - val_loss: 0.5488 - val_accuracy: 0.7950\n",
            "Epoch 78/100\n",
            "25/25 [==============================] - 0s 5ms/step - loss: 0.5532 - accuracy: 0.7825 - val_loss: 0.5449 - val_accuracy: 0.8050\n",
            "Epoch 79/100\n",
            "25/25 [==============================] - 0s 4ms/step - loss: 0.5495 - accuracy: 0.7800 - val_loss: 0.5410 - val_accuracy: 0.8150\n",
            "Epoch 80/100\n",
            "25/25 [==============================] - 0s 4ms/step - loss: 0.5458 - accuracy: 0.7825 - val_loss: 0.5372 - val_accuracy: 0.8200\n",
            "Epoch 81/100\n",
            "25/25 [==============================] - 0s 4ms/step - loss: 0.5422 - accuracy: 0.7900 - val_loss: 0.5334 - val_accuracy: 0.8250\n",
            "Epoch 82/100\n",
            "25/25 [==============================] - 0s 4ms/step - loss: 0.5386 - accuracy: 0.7937 - val_loss: 0.5295 - val_accuracy: 0.8200\n",
            "Epoch 83/100\n",
            "25/25 [==============================] - 0s 4ms/step - loss: 0.5351 - accuracy: 0.7937 - val_loss: 0.5257 - val_accuracy: 0.8250\n",
            "Epoch 84/100\n",
            "25/25 [==============================] - 0s 4ms/step - loss: 0.5315 - accuracy: 0.7962 - val_loss: 0.5219 - val_accuracy: 0.8250\n",
            "Epoch 85/100\n",
            "25/25 [==============================] - 0s 4ms/step - loss: 0.5280 - accuracy: 0.7975 - val_loss: 0.5182 - val_accuracy: 0.8250\n",
            "Epoch 86/100\n",
            "25/25 [==============================] - 0s 4ms/step - loss: 0.5245 - accuracy: 0.7962 - val_loss: 0.5145 - val_accuracy: 0.8300\n",
            "Epoch 87/100\n",
            "25/25 [==============================] - 0s 4ms/step - loss: 0.5210 - accuracy: 0.7962 - val_loss: 0.5107 - val_accuracy: 0.8300\n",
            "Epoch 88/100\n",
            "25/25 [==============================] - 0s 4ms/step - loss: 0.5175 - accuracy: 0.7975 - val_loss: 0.5071 - val_accuracy: 0.8350\n",
            "Epoch 89/100\n",
            "25/25 [==============================] - 0s 4ms/step - loss: 0.5140 - accuracy: 0.7987 - val_loss: 0.5035 - val_accuracy: 0.8350\n",
            "Epoch 90/100\n",
            "25/25 [==============================] - 0s 4ms/step - loss: 0.5106 - accuracy: 0.8012 - val_loss: 0.4999 - val_accuracy: 0.8350\n",
            "Epoch 91/100\n",
            "25/25 [==============================] - 0s 4ms/step - loss: 0.5072 - accuracy: 0.8025 - val_loss: 0.4964 - val_accuracy: 0.8300\n",
            "Epoch 92/100\n",
            "25/25 [==============================] - 0s 4ms/step - loss: 0.5039 - accuracy: 0.8025 - val_loss: 0.4928 - val_accuracy: 0.8350\n",
            "Epoch 93/100\n",
            "25/25 [==============================] - 0s 4ms/step - loss: 0.5005 - accuracy: 0.8025 - val_loss: 0.4893 - val_accuracy: 0.8300\n",
            "Epoch 94/100\n",
            "25/25 [==============================] - 0s 4ms/step - loss: 0.4972 - accuracy: 0.8025 - val_loss: 0.4858 - val_accuracy: 0.8350\n",
            "Epoch 95/100\n",
            "25/25 [==============================] - 0s 4ms/step - loss: 0.4939 - accuracy: 0.8075 - val_loss: 0.4824 - val_accuracy: 0.8350\n",
            "Epoch 96/100\n",
            "25/25 [==============================] - 0s 4ms/step - loss: 0.4907 - accuracy: 0.8087 - val_loss: 0.4790 - val_accuracy: 0.8350\n",
            "Epoch 97/100\n",
            "25/25 [==============================] - 0s 4ms/step - loss: 0.4875 - accuracy: 0.8050 - val_loss: 0.4757 - val_accuracy: 0.8350\n",
            "Epoch 98/100\n",
            "25/25 [==============================] - 0s 4ms/step - loss: 0.4843 - accuracy: 0.8062 - val_loss: 0.4723 - val_accuracy: 0.8350\n",
            "Epoch 99/100\n",
            "25/25 [==============================] - 0s 4ms/step - loss: 0.4812 - accuracy: 0.8062 - val_loss: 0.4690 - val_accuracy: 0.8300\n",
            "Epoch 100/100\n",
            "25/25 [==============================] - 0s 4ms/step - loss: 0.4780 - accuracy: 0.8075 - val_loss: 0.4658 - val_accuracy: 0.8300\n"
          ]
        }
      ]
    },
    {
      "cell_type": "code",
      "source": [
        "from mlxtend.plotting import plot_decision_regions\n",
        "plot_decision_regions(x, y.astype('int'), clf=model, legend=2)"
      ],
      "metadata": {
        "colab": {
          "base_uri": "https://localhost:8080/",
          "height": 299
        },
        "id": "OYQ-Qcwyl1_F",
        "outputId": "9687737e-2652-428c-d5ed-39239698ffec"
      },
      "execution_count": 41,
      "outputs": [
        {
          "output_type": "stream",
          "name": "stdout",
          "text": [
            "3888/3888 [==============================] - 6s 1ms/step\n"
          ]
        },
        {
          "output_type": "execute_result",
          "data": {
            "text/plain": [
              "<matplotlib.axes._subplots.AxesSubplot at 0x7f7140198cd0>"
            ]
          },
          "metadata": {},
          "execution_count": 41
        },
        {
          "output_type": "display_data",
          "data": {
            "text/plain": [
              "<Figure size 432x288 with 1 Axes>"
            ],
            "image/png": "[encoded data removed]"
          },
          "metadata": {
            "needs_background": "light"
          }
        }
      ]
    },
    {
      "cell_type": "code",
      "source": [
        "# Initilize weight with zero\n",
        "\n",
        "initial_weight[0] = np.zeros(initial_weight[0].shape)\n",
        "initial_weight[1] = np.zeros(initial_weight[1].shape)\n",
        "initial_weight[2] = np.zeros(initial_weight[2].shape)\n",
        "initial_weight[3] = np.zeros(initial_weight[3].shape)\n",
        "\n",
        "model.set_weights(initial_weight)\n",
        "\n",
        "model.compile(optimizer = 'adam', loss='binary_crossentropy', metrics='accuracy' )\n",
        "model.fit(x,y, epochs = 50, validation_split=.15)\n",
        "\n"
      ],
      "metadata": {
        "colab": {
          "base_uri": "https://localhost:8080/"
        },
        "id": "s_ru1c6onhgb",
        "outputId": "0760dc7c-c80f-4603-bd48-b08709f61924"
      },
      "execution_count": 42,
      "outputs": [
        {
          "output_type": "stream",
          "name": "stdout",
          "text": [
            "Epoch 1/50\n",
            "27/27 [==============================] - 1s 9ms/step - loss: 0.6932 - accuracy: 0.5047 - val_loss: 0.6935 - val_accuracy: 0.4733\n",
            "Epoch 2/50\n",
            "27/27 [==============================] - 0s 5ms/step - loss: 0.6931 - accuracy: 0.5047 - val_loss: 0.6935 - val_accuracy: 0.4733\n",
            "Epoch 3/50\n",
            "27/27 [==============================] - 0s 5ms/step - loss: 0.6930 - accuracy: 0.5047 - val_loss: 0.6934 - val_accuracy: 0.4733\n",
            "Epoch 4/50\n",
            "27/27 [==============================] - 0s 4ms/step - loss: 0.6928 - accuracy: 0.5047 - val_loss: 0.6933 - val_accuracy: 0.4733\n",
            "Epoch 5/50\n",
            "27/27 [==============================] - 0s 4ms/step - loss: 0.6924 - accuracy: 0.5047 - val_loss: 0.6931 - val_accuracy: 0.4733\n",
            "Epoch 6/50\n",
            "27/27 [==============================] - 0s 4ms/step - loss: 0.6918 - accuracy: 0.5047 - val_loss: 0.6926 - val_accuracy: 0.4733\n",
            "Epoch 7/50\n",
            "27/27 [==============================] - 0s 5ms/step - loss: 0.6909 - accuracy: 0.5047 - val_loss: 0.6919 - val_accuracy: 0.4733\n",
            "Epoch 8/50\n",
            "27/27 [==============================] - 0s 4ms/step - loss: 0.6897 - accuracy: 0.5047 - val_loss: 0.6909 - val_accuracy: 0.4733\n",
            "Epoch 9/50\n",
            "27/27 [==============================] - 0s 5ms/step - loss: 0.6880 - accuracy: 0.5047 - val_loss: 0.6894 - val_accuracy: 0.4733\n",
            "Epoch 10/50\n",
            "27/27 [==============================] - 0s 5ms/step - loss: 0.6859 - accuracy: 0.5047 - val_loss: 0.6875 - val_accuracy: 0.4733\n",
            "Epoch 11/50\n",
            "27/27 [==============================] - 0s 4ms/step - loss: 0.6834 - accuracy: 0.5047 - val_loss: 0.6853 - val_accuracy: 0.4733\n",
            "Epoch 12/50\n",
            "27/27 [==============================] - 0s 4ms/step - loss: 0.6805 - accuracy: 0.5047 - val_loss: 0.6825 - val_accuracy: 0.4733\n",
            "Epoch 13/50\n",
            "27/27 [==============================] - 0s 4ms/step - loss: 0.6772 - accuracy: 0.5047 - val_loss: 0.6795 - val_accuracy: 0.4733\n",
            "Epoch 14/50\n",
            "27/27 [==============================] - 0s 4ms/step - loss: 0.6734 - accuracy: 0.5047 - val_loss: 0.6759 - val_accuracy: 0.4733\n",
            "Epoch 15/50\n",
            "27/27 [==============================] - 0s 4ms/step - loss: 0.6693 - accuracy: 0.5047 - val_loss: 0.6721 - val_accuracy: 0.4733\n",
            "Epoch 16/50\n",
            "27/27 [==============================] - 0s 4ms/step - loss: 0.6649 - accuracy: 0.5047 - val_loss: 0.6678 - val_accuracy: 0.4733\n",
            "Epoch 17/50\n",
            "27/27 [==============================] - 0s 4ms/step - loss: 0.6601 - accuracy: 0.5047 - val_loss: 0.6633 - val_accuracy: 0.4733\n",
            "Epoch 18/50\n",
            "27/27 [==============================] - 0s 4ms/step - loss: 0.6551 - accuracy: 0.5047 - val_loss: 0.6585 - val_accuracy: 0.4733\n",
            "Epoch 19/50\n",
            "27/27 [==============================] - 0s 5ms/step - loss: 0.6499 - accuracy: 0.5047 - val_loss: 0.6535 - val_accuracy: 0.4733\n",
            "Epoch 20/50\n",
            "27/27 [==============================] - 0s 5ms/step - loss: 0.6445 - accuracy: 0.5118 - val_loss: 0.6484 - val_accuracy: 0.5200\n",
            "Epoch 21/50\n",
            "27/27 [==============================] - 0s 4ms/step - loss: 0.6389 - accuracy: 0.6094 - val_loss: 0.6431 - val_accuracy: 0.6333\n",
            "Epoch 22/50\n",
            "27/27 [==============================] - 0s 5ms/step - loss: 0.6333 - accuracy: 0.6812 - val_loss: 0.6376 - val_accuracy: 0.7000\n",
            "Epoch 23/50\n",
            "27/27 [==============================] - 0s 5ms/step - loss: 0.6276 - accuracy: 0.7224 - val_loss: 0.6321 - val_accuracy: 0.7067\n",
            "Epoch 24/50\n",
            "27/27 [==============================] - 0s 5ms/step - loss: 0.6218 - accuracy: 0.7612 - val_loss: 0.6267 - val_accuracy: 0.7400\n",
            "Epoch 25/50\n",
            "27/27 [==============================] - 0s 4ms/step - loss: 0.6161 - accuracy: 0.7729 - val_loss: 0.6209 - val_accuracy: 0.7467\n",
            "Epoch 26/50\n",
            "27/27 [==============================] - 0s 5ms/step - loss: 0.6103 - accuracy: 0.7882 - val_loss: 0.6153 - val_accuracy: 0.7867\n",
            "Epoch 27/50\n",
            "27/27 [==============================] - 0s 5ms/step - loss: 0.6046 - accuracy: 0.7953 - val_loss: 0.6098 - val_accuracy: 0.8067\n",
            "Epoch 28/50\n",
            "27/27 [==============================] - 0s 4ms/step - loss: 0.5989 - accuracy: 0.8082 - val_loss: 0.6041 - val_accuracy: 0.7933\n",
            "Epoch 29/50\n",
            "27/27 [==============================] - 0s 4ms/step - loss: 0.5932 - accuracy: 0.8153 - val_loss: 0.5986 - val_accuracy: 0.7867\n",
            "Epoch 30/50\n",
            "27/27 [==============================] - 0s 4ms/step - loss: 0.5875 - accuracy: 0.8224 - val_loss: 0.5930 - val_accuracy: 0.7933\n",
            "Epoch 31/50\n",
            "27/27 [==============================] - 0s 4ms/step - loss: 0.5819 - accuracy: 0.8282 - val_loss: 0.5875 - val_accuracy: 0.8067\n",
            "Epoch 32/50\n",
            "27/27 [==============================] - 0s 4ms/step - loss: 0.5763 - accuracy: 0.8235 - val_loss: 0.5821 - val_accuracy: 0.8067\n",
            "Epoch 33/50\n",
            "27/27 [==============================] - 0s 4ms/step - loss: 0.5711 - accuracy: 0.8235 - val_loss: 0.5768 - val_accuracy: 0.8000\n",
            "Epoch 34/50\n",
            "27/27 [==============================] - 0s 4ms/step - loss: 0.5655 - accuracy: 0.8271 - val_loss: 0.5715 - val_accuracy: 0.8000\n",
            "Epoch 35/50\n",
            "27/27 [==============================] - 0s 4ms/step - loss: 0.5602 - accuracy: 0.8271 - val_loss: 0.5662 - val_accuracy: 0.8000\n",
            "Epoch 36/50\n",
            "27/27 [==============================] - 0s 4ms/step - loss: 0.5550 - accuracy: 0.8212 - val_loss: 0.5611 - val_accuracy: 0.8067\n",
            "Epoch 37/50\n",
            "27/27 [==============================] - 0s 4ms/step - loss: 0.5499 - accuracy: 0.8224 - val_loss: 0.5561 - val_accuracy: 0.8067\n",
            "Epoch 38/50\n",
            "27/27 [==============================] - 0s 4ms/step - loss: 0.5449 - accuracy: 0.8247 - val_loss: 0.5513 - val_accuracy: 0.8133\n",
            "Epoch 39/50\n",
            "27/27 [==============================] - 0s 4ms/step - loss: 0.5399 - accuracy: 0.8224 - val_loss: 0.5463 - val_accuracy: 0.8133\n",
            "Epoch 40/50\n",
            "27/27 [==============================] - 0s 5ms/step - loss: 0.5351 - accuracy: 0.8224 - val_loss: 0.5416 - val_accuracy: 0.8133\n",
            "Epoch 41/50\n",
            "27/27 [==============================] - 0s 4ms/step - loss: 0.5303 - accuracy: 0.8224 - val_loss: 0.5370 - val_accuracy: 0.8133\n",
            "Epoch 42/50\n",
            "27/27 [==============================] - 0s 5ms/step - loss: 0.5256 - accuracy: 0.8224 - val_loss: 0.5323 - val_accuracy: 0.8133\n",
            "Epoch 43/50\n",
            "27/27 [==============================] - 0s 4ms/step - loss: 0.5210 - accuracy: 0.8235 - val_loss: 0.5278 - val_accuracy: 0.8133\n",
            "Epoch 44/50\n",
            "27/27 [==============================] - 0s 4ms/step - loss: 0.5165 - accuracy: 0.8247 - val_loss: 0.5233 - val_accuracy: 0.8133\n",
            "Epoch 45/50\n",
            "27/27 [==============================] - 0s 5ms/step - loss: 0.5120 - accuracy: 0.8271 - val_loss: 0.5190 - val_accuracy: 0.8067\n",
            "Epoch 46/50\n",
            "27/27 [==============================] - 0s 4ms/step - loss: 0.5077 - accuracy: 0.8259 - val_loss: 0.5147 - val_accuracy: 0.8133\n",
            "Epoch 47/50\n",
            "27/27 [==============================] - 0s 4ms/step - loss: 0.5034 - accuracy: 0.8259 - val_loss: 0.5106 - val_accuracy: 0.8200\n",
            "Epoch 48/50\n",
            "27/27 [==============================] - 0s 5ms/step - loss: 0.4992 - accuracy: 0.8235 - val_loss: 0.5064 - val_accuracy: 0.8200\n",
            "Epoch 49/50\n",
            "27/27 [==============================] - 0s 4ms/step - loss: 0.4951 - accuracy: 0.8247 - val_loss: 0.5024 - val_accuracy: 0.8200\n",
            "Epoch 50/50\n",
            "27/27 [==============================] - 0s 4ms/step - loss: 0.4911 - accuracy: 0.8259 - val_loss: 0.4984 - val_accuracy: 0.8133\n"
          ]
        },
        {
          "output_type": "execute_result",
          "data": {
            "text/plain": [
              "<keras.callbacks.History at 0x7f7220e91070>"
            ]
          },
          "metadata": {},
          "execution_count": 42
        }
      ]
    },
    {
      "cell_type": "code",
      "source": [
        "from mlxtend.plotting import plot_decision_regions\n",
        "plot_decision_regions(x, y.astype('int') , clf= model, legend=2)"
      ],
      "metadata": {
        "colab": {
          "base_uri": "https://localhost:8080/",
          "height": 353
        },
        "id": "IJd6hMvkoLo0",
        "outputId": "3c8d7918-f8a2-4f73-928e-d3a0f5135bee"
      },
      "execution_count": 45,
      "outputs": [
        {
          "output_type": "stream",
          "name": "stdout",
          "text": [
            "3888/3888 [==============================] - 6s 2ms/step\n"
          ]
        },
        {
          "output_type": "stream",
          "name": "stderr",
          "text": [
            "/usr/local/lib/python3.8/dist-packages/mlxtend/plotting/decision_regions.py:244: MatplotlibDeprecationWarning: Passing unsupported keyword arguments to axis() will raise a TypeError in 3.3.\n",
            "  ax.axis(xmin=xx.min(), xmax=xx.max(), y_min=yy.min(), y_max=yy.max())\n"
          ]
        },
        {
          "output_type": "execute_result",
          "data": {
            "text/plain": [
              "<matplotlib.axes._subplots.AxesSubplot at 0x7f71377b31f0>"
            ]
          },
          "metadata": {},
          "execution_count": 45
        },
        {
          "output_type": "display_data",
          "data": {
            "text/plain": [
              "<Figure size 432x288 with 1 Axes>"
            ],
            "image/png": "[encoded data removed]"
          },
          "metadata": {
            "needs_background": "light"
          }
        }
      ]
    },
    {
      "cell_type": "code",
      "source": [
        "model = Sequential()\n",
        "model.add(Dense(2, activation='relu', input_dim=2, kernel_initializer='he_normal'))\n",
        "model.add(Dense(1, activation='sigmoid'))\n",
        "model.summary()"
      ],
      "metadata": {
        "colab": {
          "base_uri": "https://localhost:8080/"
        },
        "id": "nhTB2v6xo8sX",
        "outputId": "98b4fd20-69c8-4e81-d02b-6febf0020508"
      },
      "execution_count": 50,
      "outputs": [
        {
          "output_type": "stream",
          "name": "stdout",
          "text": [
            "Model: \"sequential_4\"\n",
            "_________________________________________________________________\n",
            " Layer (type)                Output Shape              Param #   \n",
            "=================================================================\n",
            " dense_8 (Dense)             (None, 2)                 6         \n",
            "                                                                 \n",
            " dense_9 (Dense)             (None, 1)                 3         \n",
            "                                                                 \n",
            "=================================================================\n",
            "Total params: 9\n",
            "Trainable params: 9\n",
            "Non-trainable params: 0\n",
            "_________________________________________________________________\n"
          ]
        }
      ]
    },
    {
      "cell_type": "code",
      "source": [
        "model.compile(optimizer='adam', loss='binary_crossentropy', metrics=['accuracy'])\n",
        "history = model.fit(x, y1, epochs=50, validation_split = 0.2)\n"
      ],
      "metadata": {
        "colab": {
          "base_uri": "https://localhost:8080/"
        },
        "id": "YMg-WAJfp3RT",
        "outputId": "5b311c9d-94b1-48d6-ec12-872fdac500a0"
      },
      "execution_count": 57,
      "outputs": [
        {
          "output_type": "stream",
          "name": "stdout",
          "text": [
            "Epoch 1/50\n",
            "25/25 [==============================] - 1s 11ms/step - loss: 0.6738 - accuracy: 0.5800 - val_loss: 0.6712 - val_accuracy: 0.5450\n",
            "Epoch 2/50\n",
            "25/25 [==============================] - 0s 7ms/step - loss: 0.6635 - accuracy: 0.5913 - val_loss: 0.6600 - val_accuracy: 0.6000\n",
            "Epoch 3/50\n",
            "25/25 [==============================] - 0s 6ms/step - loss: 0.6543 - accuracy: 0.6438 - val_loss: 0.6492 - val_accuracy: 0.6700\n",
            "Epoch 4/50\n",
            "25/25 [==============================] - 0s 5ms/step - loss: 0.6451 - accuracy: 0.6975 - val_loss: 0.6396 - val_accuracy: 0.7150\n",
            "Epoch 5/50\n",
            "25/25 [==============================] - 0s 6ms/step - loss: 0.6363 - accuracy: 0.7300 - val_loss: 0.6301 - val_accuracy: 0.7550\n",
            "Epoch 6/50\n",
            "25/25 [==============================] - 0s 5ms/step - loss: 0.6275 - accuracy: 0.7588 - val_loss: 0.6204 - val_accuracy: 0.8000\n",
            "Epoch 7/50\n",
            "25/25 [==============================] - 0s 5ms/step - loss: 0.6187 - accuracy: 0.8200 - val_loss: 0.6109 - val_accuracy: 0.8700\n",
            "Epoch 8/50\n",
            "25/25 [==============================] - 0s 6ms/step - loss: 0.6098 - accuracy: 0.8462 - val_loss: 0.6012 - val_accuracy: 0.8700\n",
            "Epoch 9/50\n",
            "25/25 [==============================] - 0s 5ms/step - loss: 0.6007 - accuracy: 0.8500 - val_loss: 0.5915 - val_accuracy: 0.8700\n",
            "Epoch 10/50\n",
            "25/25 [==============================] - 0s 7ms/step - loss: 0.5915 - accuracy: 0.8500 - val_loss: 0.5816 - val_accuracy: 0.8700\n",
            "Epoch 11/50\n",
            "25/25 [==============================] - 0s 5ms/step - loss: 0.5822 - accuracy: 0.8512 - val_loss: 0.5716 - val_accuracy: 0.8700\n",
            "Epoch 12/50\n",
            "25/25 [==============================] - 0s 6ms/step - loss: 0.5726 - accuracy: 0.8525 - val_loss: 0.5614 - val_accuracy: 0.8700\n",
            "Epoch 13/50\n",
            "25/25 [==============================] - 0s 6ms/step - loss: 0.5628 - accuracy: 0.8525 - val_loss: 0.5511 - val_accuracy: 0.8700\n",
            "Epoch 14/50\n",
            "25/25 [==============================] - 0s 5ms/step - loss: 0.5528 - accuracy: 0.8537 - val_loss: 0.5408 - val_accuracy: 0.8700\n",
            "Epoch 15/50\n",
            "25/25 [==============================] - 0s 5ms/step - loss: 0.5429 - accuracy: 0.8537 - val_loss: 0.5302 - val_accuracy: 0.8700\n",
            "Epoch 16/50\n",
            "25/25 [==============================] - 0s 5ms/step - loss: 0.5328 - accuracy: 0.8500 - val_loss: 0.5198 - val_accuracy: 0.8700\n",
            "Epoch 17/50\n",
            "25/25 [==============================] - 0s 4ms/step - loss: 0.5226 - accuracy: 0.8512 - val_loss: 0.5093 - val_accuracy: 0.8700\n",
            "Epoch 18/50\n",
            "25/25 [==============================] - 0s 4ms/step - loss: 0.5124 - accuracy: 0.8512 - val_loss: 0.4987 - val_accuracy: 0.8600\n",
            "Epoch 19/50\n",
            "25/25 [==============================] - 0s 4ms/step - loss: 0.5023 - accuracy: 0.8487 - val_loss: 0.4884 - val_accuracy: 0.8600\n",
            "Epoch 20/50\n",
            "25/25 [==============================] - 0s 4ms/step - loss: 0.4924 - accuracy: 0.8462 - val_loss: 0.4780 - val_accuracy: 0.8600\n",
            "Epoch 21/50\n",
            "25/25 [==============================] - 0s 4ms/step - loss: 0.4824 - accuracy: 0.8462 - val_loss: 0.4680 - val_accuracy: 0.8650\n",
            "Epoch 22/50\n",
            "25/25 [==============================] - 0s 4ms/step - loss: 0.4729 - accuracy: 0.8413 - val_loss: 0.4581 - val_accuracy: 0.8600\n",
            "Epoch 23/50\n",
            "25/25 [==============================] - 0s 4ms/step - loss: 0.4634 - accuracy: 0.8388 - val_loss: 0.4483 - val_accuracy: 0.8600\n",
            "Epoch 24/50\n",
            "25/25 [==============================] - 0s 4ms/step - loss: 0.4542 - accuracy: 0.8388 - val_loss: 0.4389 - val_accuracy: 0.8600\n",
            "Epoch 25/50\n",
            "25/25 [==============================] - 0s 4ms/step - loss: 0.4454 - accuracy: 0.8375 - val_loss: 0.4298 - val_accuracy: 0.8600\n",
            "Epoch 26/50\n",
            "25/25 [==============================] - 0s 4ms/step - loss: 0.4368 - accuracy: 0.8375 - val_loss: 0.4211 - val_accuracy: 0.8650\n",
            "Epoch 27/50\n",
            "25/25 [==============================] - 0s 4ms/step - loss: 0.4287 - accuracy: 0.8375 - val_loss: 0.4128 - val_accuracy: 0.8650\n",
            "Epoch 28/50\n",
            "25/25 [==============================] - 0s 4ms/step - loss: 0.4210 - accuracy: 0.8363 - val_loss: 0.4047 - val_accuracy: 0.8650\n",
            "Epoch 29/50\n",
            "25/25 [==============================] - 0s 4ms/step - loss: 0.4133 - accuracy: 0.8363 - val_loss: 0.3972 - val_accuracy: 0.8650\n",
            "Epoch 30/50\n",
            "25/25 [==============================] - 0s 4ms/step - loss: 0.4064 - accuracy: 0.8363 - val_loss: 0.3898 - val_accuracy: 0.8650\n",
            "Epoch 31/50\n",
            "25/25 [==============================] - 0s 4ms/step - loss: 0.3996 - accuracy: 0.8363 - val_loss: 0.3829 - val_accuracy: 0.8650\n",
            "Epoch 32/50\n",
            "25/25 [==============================] - 0s 4ms/step - loss: 0.3932 - accuracy: 0.8363 - val_loss: 0.3761 - val_accuracy: 0.8650\n",
            "Epoch 33/50\n",
            "25/25 [==============================] - 0s 4ms/step - loss: 0.3871 - accuracy: 0.8388 - val_loss: 0.3701 - val_accuracy: 0.8650\n",
            "Epoch 34/50\n",
            "25/25 [==============================] - 0s 4ms/step - loss: 0.3812 - accuracy: 0.8388 - val_loss: 0.3640 - val_accuracy: 0.8650\n",
            "Epoch 35/50\n",
            "25/25 [==============================] - 0s 4ms/step - loss: 0.3758 - accuracy: 0.8388 - val_loss: 0.3584 - val_accuracy: 0.8650\n",
            "Epoch 36/50\n",
            "25/25 [==============================] - 0s 4ms/step - loss: 0.3706 - accuracy: 0.8388 - val_loss: 0.3531 - val_accuracy: 0.8650\n",
            "Epoch 37/50\n",
            "25/25 [==============================] - 0s 4ms/step - loss: 0.3656 - accuracy: 0.8388 - val_loss: 0.3479 - val_accuracy: 0.8650\n",
            "Epoch 38/50\n",
            "25/25 [==============================] - 0s 4ms/step - loss: 0.3609 - accuracy: 0.8400 - val_loss: 0.3430 - val_accuracy: 0.8650\n",
            "Epoch 39/50\n",
            "25/25 [==============================] - 0s 4ms/step - loss: 0.3563 - accuracy: 0.8388 - val_loss: 0.3385 - val_accuracy: 0.8650\n",
            "Epoch 40/50\n",
            "25/25 [==============================] - 0s 4ms/step - loss: 0.3520 - accuracy: 0.8388 - val_loss: 0.3341 - val_accuracy: 0.8650\n",
            "Epoch 41/50\n",
            "25/25 [==============================] - 0s 4ms/step - loss: 0.3479 - accuracy: 0.8400 - val_loss: 0.3300 - val_accuracy: 0.8650\n",
            "Epoch 42/50\n",
            "25/25 [==============================] - 0s 4ms/step - loss: 0.3440 - accuracy: 0.8400 - val_loss: 0.3260 - val_accuracy: 0.8650\n",
            "Epoch 43/50\n",
            "25/25 [==============================] - 0s 4ms/step - loss: 0.3403 - accuracy: 0.8400 - val_loss: 0.3222 - val_accuracy: 0.8650\n",
            "Epoch 44/50\n",
            "25/25 [==============================] - 0s 4ms/step - loss: 0.3367 - accuracy: 0.8413 - val_loss: 0.3188 - val_accuracy: 0.8650\n",
            "Epoch 45/50\n",
            "25/25 [==============================] - 0s 4ms/step - loss: 0.3333 - accuracy: 0.8425 - val_loss: 0.3152 - val_accuracy: 0.8650\n",
            "Epoch 46/50\n",
            "25/25 [==============================] - 0s 4ms/step - loss: 0.3301 - accuracy: 0.8425 - val_loss: 0.3120 - val_accuracy: 0.8650\n",
            "Epoch 47/50\n",
            "25/25 [==============================] - 0s 4ms/step - loss: 0.3269 - accuracy: 0.8425 - val_loss: 0.3089 - val_accuracy: 0.8650\n",
            "Epoch 48/50\n",
            "25/25 [==============================] - 0s 4ms/step - loss: 0.3239 - accuracy: 0.8450 - val_loss: 0.3061 - val_accuracy: 0.8650\n",
            "Epoch 49/50\n",
            "25/25 [==============================] - 0s 4ms/step - loss: 0.3211 - accuracy: 0.8450 - val_loss: 0.3032 - val_accuracy: 0.8650\n",
            "Epoch 50/50\n",
            "25/25 [==============================] - 0s 4ms/step - loss: 0.3182 - accuracy: 0.8462 - val_loss: 0.3004 - val_accuracy: 0.8650\n"
          ]
        }
      ]
    },
    {
      "cell_type": "code",
      "source": [
        "from mlxtend.plotting import plot_decision_regions\n",
        "plot_decision_regions(x, y.astype('int') , clf= model, legend=2)"
      ],
      "metadata": {
        "colab": {
          "base_uri": "https://localhost:8080/",
          "height": 353
        },
        "id": "EBoeCVjErbRZ",
        "outputId": "2f5f9479-345e-4e91-c317-6d50bba0d46d"
      },
      "execution_count": 58,
      "outputs": [
        {
          "output_type": "stream",
          "name": "stdout",
          "text": [
            "3888/3888 [==============================] - 6s 2ms/step\n"
          ]
        },
        {
          "output_type": "stream",
          "name": "stderr",
          "text": [
            "/usr/local/lib/python3.8/dist-packages/mlxtend/plotting/decision_regions.py:244: MatplotlibDeprecationWarning: Passing unsupported keyword arguments to axis() will raise a TypeError in 3.3.\n",
            "  ax.axis(xmin=xx.min(), xmax=xx.max(), y_min=yy.min(), y_max=yy.max())\n"
          ]
        },
        {
          "output_type": "execute_result",
          "data": {
            "text/plain": [
              "<matplotlib.axes._subplots.AxesSubplot at 0x7f7134401a30>"
            ]
          },
          "metadata": {},
          "execution_count": 58
        },
        {
          "output_type": "display_data",
          "data": {
            "text/plain": [
              "<Figure size 432x288 with 1 Axes>"
            ],
            "image/png": "[encoded data removed]"
          },
          "metadata": {
            "needs_background": "light"
          }
        }
      ]
    }
  ]
}